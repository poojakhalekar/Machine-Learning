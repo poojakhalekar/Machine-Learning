{
 "cells": [
  {
   "cell_type": "code",
   "execution_count": 66,
   "id": "7484f9b9-c150-42b5-9f40-148419afe431",
   "metadata": {},
   "outputs": [],
   "source": [
    "import numpy as np\n",
    "import pandas as pd\n",
    "import matplotlib.pyplot as plt \n",
    "import seaborn as sns\n"
   ]
  },
  {
   "cell_type": "code",
   "execution_count": 68,
   "id": "d6691c0b-14ff-41a3-8fbb-216143101c26",
   "metadata": {},
   "outputs": [],
   "source": [
    "import pandas as pd  \n",
    "df = pd.read_csv(\"C:/Users/khale/OneDrive/Desktop/Machine learning/Assignment1/vehicles.csv\")\n"
   ]
  },
  {
   "cell_type": "code",
   "execution_count": 10,
   "id": "6aa445b6-d766-43eb-9e08-278996696ac3",
   "metadata": {},
   "outputs": [
    {
     "data": {
      "text/html": [
       "<div>\n",
       "<style scoped>\n",
       "    .dataframe tbody tr th:only-of-type {\n",
       "        vertical-align: middle;\n",
       "    }\n",
       "\n",
       "    .dataframe tbody tr th {\n",
       "        vertical-align: top;\n",
       "    }\n",
       "\n",
       "    .dataframe thead th {\n",
       "        text-align: right;\n",
       "    }\n",
       "</style>\n",
       "<table border=\"1\" class=\"dataframe\">\n",
       "  <thead>\n",
       "    <tr style=\"text-align: right;\">\n",
       "      <th></th>\n",
       "      <th>id</th>\n",
       "      <th>url</th>\n",
       "      <th>region</th>\n",
       "      <th>region_url</th>\n",
       "      <th>price</th>\n",
       "      <th>year</th>\n",
       "      <th>manufacturer</th>\n",
       "      <th>model</th>\n",
       "      <th>condition</th>\n",
       "      <th>cylinders</th>\n",
       "      <th>...</th>\n",
       "      <th>size</th>\n",
       "      <th>type</th>\n",
       "      <th>paint_color</th>\n",
       "      <th>image_url</th>\n",
       "      <th>description</th>\n",
       "      <th>county</th>\n",
       "      <th>state</th>\n",
       "      <th>lat</th>\n",
       "      <th>long</th>\n",
       "      <th>posting_date</th>\n",
       "    </tr>\n",
       "  </thead>\n",
       "  <tbody>\n",
       "    <tr>\n",
       "      <th>0</th>\n",
       "      <td>7222695916</td>\n",
       "      <td>https://prescott.craigslist.org/cto/d/prescott...</td>\n",
       "      <td>prescott</td>\n",
       "      <td>https://prescott.craigslist.org</td>\n",
       "      <td>6000</td>\n",
       "      <td>NaN</td>\n",
       "      <td>NaN</td>\n",
       "      <td>NaN</td>\n",
       "      <td>NaN</td>\n",
       "      <td>NaN</td>\n",
       "      <td>...</td>\n",
       "      <td>NaN</td>\n",
       "      <td>NaN</td>\n",
       "      <td>NaN</td>\n",
       "      <td>NaN</td>\n",
       "      <td>NaN</td>\n",
       "      <td>NaN</td>\n",
       "      <td>az</td>\n",
       "      <td>NaN</td>\n",
       "      <td>NaN</td>\n",
       "      <td>NaN</td>\n",
       "    </tr>\n",
       "    <tr>\n",
       "      <th>1</th>\n",
       "      <td>7218891961</td>\n",
       "      <td>https://fayar.craigslist.org/ctd/d/bentonville...</td>\n",
       "      <td>fayetteville</td>\n",
       "      <td>https://fayar.craigslist.org</td>\n",
       "      <td>11900</td>\n",
       "      <td>NaN</td>\n",
       "      <td>NaN</td>\n",
       "      <td>NaN</td>\n",
       "      <td>NaN</td>\n",
       "      <td>NaN</td>\n",
       "      <td>...</td>\n",
       "      <td>NaN</td>\n",
       "      <td>NaN</td>\n",
       "      <td>NaN</td>\n",
       "      <td>NaN</td>\n",
       "      <td>NaN</td>\n",
       "      <td>NaN</td>\n",
       "      <td>ar</td>\n",
       "      <td>NaN</td>\n",
       "      <td>NaN</td>\n",
       "      <td>NaN</td>\n",
       "    </tr>\n",
       "    <tr>\n",
       "      <th>2</th>\n",
       "      <td>7221797935</td>\n",
       "      <td>https://keys.craigslist.org/cto/d/summerland-k...</td>\n",
       "      <td>florida keys</td>\n",
       "      <td>https://keys.craigslist.org</td>\n",
       "      <td>21000</td>\n",
       "      <td>NaN</td>\n",
       "      <td>NaN</td>\n",
       "      <td>NaN</td>\n",
       "      <td>NaN</td>\n",
       "      <td>NaN</td>\n",
       "      <td>...</td>\n",
       "      <td>NaN</td>\n",
       "      <td>NaN</td>\n",
       "      <td>NaN</td>\n",
       "      <td>NaN</td>\n",
       "      <td>NaN</td>\n",
       "      <td>NaN</td>\n",
       "      <td>fl</td>\n",
       "      <td>NaN</td>\n",
       "      <td>NaN</td>\n",
       "      <td>NaN</td>\n",
       "    </tr>\n",
       "    <tr>\n",
       "      <th>3</th>\n",
       "      <td>7222270760</td>\n",
       "      <td>https://worcester.craigslist.org/cto/d/west-br...</td>\n",
       "      <td>worcester / central MA</td>\n",
       "      <td>https://worcester.craigslist.org</td>\n",
       "      <td>1500</td>\n",
       "      <td>NaN</td>\n",
       "      <td>NaN</td>\n",
       "      <td>NaN</td>\n",
       "      <td>NaN</td>\n",
       "      <td>NaN</td>\n",
       "      <td>...</td>\n",
       "      <td>NaN</td>\n",
       "      <td>NaN</td>\n",
       "      <td>NaN</td>\n",
       "      <td>NaN</td>\n",
       "      <td>NaN</td>\n",
       "      <td>NaN</td>\n",
       "      <td>ma</td>\n",
       "      <td>NaN</td>\n",
       "      <td>NaN</td>\n",
       "      <td>NaN</td>\n",
       "    </tr>\n",
       "    <tr>\n",
       "      <th>4</th>\n",
       "      <td>7210384030</td>\n",
       "      <td>https://greensboro.craigslist.org/cto/d/trinit...</td>\n",
       "      <td>greensboro</td>\n",
       "      <td>https://greensboro.craigslist.org</td>\n",
       "      <td>4900</td>\n",
       "      <td>NaN</td>\n",
       "      <td>NaN</td>\n",
       "      <td>NaN</td>\n",
       "      <td>NaN</td>\n",
       "      <td>NaN</td>\n",
       "      <td>...</td>\n",
       "      <td>NaN</td>\n",
       "      <td>NaN</td>\n",
       "      <td>NaN</td>\n",
       "      <td>NaN</td>\n",
       "      <td>NaN</td>\n",
       "      <td>NaN</td>\n",
       "      <td>nc</td>\n",
       "      <td>NaN</td>\n",
       "      <td>NaN</td>\n",
       "      <td>NaN</td>\n",
       "    </tr>\n",
       "  </tbody>\n",
       "</table>\n",
       "<p>5 rows × 26 columns</p>\n",
       "</div>"
      ],
      "text/plain": [
       "           id                                                url  \\\n",
       "0  7222695916  https://prescott.craigslist.org/cto/d/prescott...   \n",
       "1  7218891961  https://fayar.craigslist.org/ctd/d/bentonville...   \n",
       "2  7221797935  https://keys.craigslist.org/cto/d/summerland-k...   \n",
       "3  7222270760  https://worcester.craigslist.org/cto/d/west-br...   \n",
       "4  7210384030  https://greensboro.craigslist.org/cto/d/trinit...   \n",
       "\n",
       "                   region                         region_url  price  year  \\\n",
       "0                prescott    https://prescott.craigslist.org   6000   NaN   \n",
       "1            fayetteville       https://fayar.craigslist.org  11900   NaN   \n",
       "2            florida keys        https://keys.craigslist.org  21000   NaN   \n",
       "3  worcester / central MA   https://worcester.craigslist.org   1500   NaN   \n",
       "4              greensboro  https://greensboro.craigslist.org   4900   NaN   \n",
       "\n",
       "  manufacturer model condition cylinders  ... size  type paint_color  \\\n",
       "0          NaN   NaN       NaN       NaN  ...  NaN   NaN         NaN   \n",
       "1          NaN   NaN       NaN       NaN  ...  NaN   NaN         NaN   \n",
       "2          NaN   NaN       NaN       NaN  ...  NaN   NaN         NaN   \n",
       "3          NaN   NaN       NaN       NaN  ...  NaN   NaN         NaN   \n",
       "4          NaN   NaN       NaN       NaN  ...  NaN   NaN         NaN   \n",
       "\n",
       "  image_url description county state lat long posting_date  \n",
       "0       NaN         NaN    NaN    az NaN  NaN          NaN  \n",
       "1       NaN         NaN    NaN    ar NaN  NaN          NaN  \n",
       "2       NaN         NaN    NaN    fl NaN  NaN          NaN  \n",
       "3       NaN         NaN    NaN    ma NaN  NaN          NaN  \n",
       "4       NaN         NaN    NaN    nc NaN  NaN          NaN  \n",
       "\n",
       "[5 rows x 26 columns]"
      ]
     },
     "execution_count": 10,
     "metadata": {},
     "output_type": "execute_result"
    }
   ],
   "source": [
    "df.head()"
   ]
  },
  {
   "cell_type": "code",
   "execution_count": 25,
   "id": "968953bb-67f3-4ec2-a9d3-d58d30bb2a97",
   "metadata": {},
   "outputs": [
    {
     "data": {
      "text/html": [
       "<div>\n",
       "<style scoped>\n",
       "    .dataframe tbody tr th:only-of-type {\n",
       "        vertical-align: middle;\n",
       "    }\n",
       "\n",
       "    .dataframe tbody tr th {\n",
       "        vertical-align: top;\n",
       "    }\n",
       "\n",
       "    .dataframe thead th {\n",
       "        text-align: right;\n",
       "    }\n",
       "</style>\n",
       "<table border=\"1\" class=\"dataframe\">\n",
       "  <thead>\n",
       "    <tr style=\"text-align: right;\">\n",
       "      <th></th>\n",
       "      <th>id</th>\n",
       "      <th>url</th>\n",
       "      <th>region</th>\n",
       "      <th>region_url</th>\n",
       "      <th>price</th>\n",
       "      <th>year</th>\n",
       "      <th>manufacturer</th>\n",
       "      <th>model</th>\n",
       "      <th>condition</th>\n",
       "      <th>cylinders</th>\n",
       "      <th>...</th>\n",
       "      <th>size</th>\n",
       "      <th>type</th>\n",
       "      <th>paint_color</th>\n",
       "      <th>image_url</th>\n",
       "      <th>description</th>\n",
       "      <th>county</th>\n",
       "      <th>state</th>\n",
       "      <th>lat</th>\n",
       "      <th>long</th>\n",
       "      <th>posting_date</th>\n",
       "    </tr>\n",
       "  </thead>\n",
       "  <tbody>\n",
       "    <tr>\n",
       "      <th>426875</th>\n",
       "      <td>7301591192</td>\n",
       "      <td>https://wyoming.craigslist.org/ctd/d/atlanta-2...</td>\n",
       "      <td>wyoming</td>\n",
       "      <td>https://wyoming.craigslist.org</td>\n",
       "      <td>23590</td>\n",
       "      <td>2019.0</td>\n",
       "      <td>nissan</td>\n",
       "      <td>maxima s sedan 4d</td>\n",
       "      <td>good</td>\n",
       "      <td>6 cylinders</td>\n",
       "      <td>...</td>\n",
       "      <td>NaN</td>\n",
       "      <td>sedan</td>\n",
       "      <td>NaN</td>\n",
       "      <td>https://images.craigslist.org/00o0o_iiraFnHg8q...</td>\n",
       "      <td>Carvana is the safer way to buy a car During t...</td>\n",
       "      <td>NaN</td>\n",
       "      <td>wy</td>\n",
       "      <td>33.786500</td>\n",
       "      <td>-84.445400</td>\n",
       "      <td>2021-04-04T03:21:31-0600</td>\n",
       "    </tr>\n",
       "    <tr>\n",
       "      <th>426876</th>\n",
       "      <td>7301591187</td>\n",
       "      <td>https://wyoming.craigslist.org/ctd/d/atlanta-2...</td>\n",
       "      <td>wyoming</td>\n",
       "      <td>https://wyoming.craigslist.org</td>\n",
       "      <td>30590</td>\n",
       "      <td>2020.0</td>\n",
       "      <td>volvo</td>\n",
       "      <td>s60 t5 momentum sedan 4d</td>\n",
       "      <td>good</td>\n",
       "      <td>NaN</td>\n",
       "      <td>...</td>\n",
       "      <td>NaN</td>\n",
       "      <td>sedan</td>\n",
       "      <td>red</td>\n",
       "      <td>https://images.craigslist.org/00x0x_15sbgnxCIS...</td>\n",
       "      <td>Carvana is the safer way to buy a car During t...</td>\n",
       "      <td>NaN</td>\n",
       "      <td>wy</td>\n",
       "      <td>33.786500</td>\n",
       "      <td>-84.445400</td>\n",
       "      <td>2021-04-04T03:21:29-0600</td>\n",
       "    </tr>\n",
       "    <tr>\n",
       "      <th>426877</th>\n",
       "      <td>7301591147</td>\n",
       "      <td>https://wyoming.craigslist.org/ctd/d/atlanta-2...</td>\n",
       "      <td>wyoming</td>\n",
       "      <td>https://wyoming.craigslist.org</td>\n",
       "      <td>34990</td>\n",
       "      <td>2020.0</td>\n",
       "      <td>cadillac</td>\n",
       "      <td>xt4 sport suv 4d</td>\n",
       "      <td>good</td>\n",
       "      <td>NaN</td>\n",
       "      <td>...</td>\n",
       "      <td>NaN</td>\n",
       "      <td>hatchback</td>\n",
       "      <td>white</td>\n",
       "      <td>https://images.craigslist.org/00L0L_farM7bxnxR...</td>\n",
       "      <td>Carvana is the safer way to buy a car During t...</td>\n",
       "      <td>NaN</td>\n",
       "      <td>wy</td>\n",
       "      <td>33.779214</td>\n",
       "      <td>-84.411811</td>\n",
       "      <td>2021-04-04T03:21:17-0600</td>\n",
       "    </tr>\n",
       "    <tr>\n",
       "      <th>426878</th>\n",
       "      <td>7301591140</td>\n",
       "      <td>https://wyoming.craigslist.org/ctd/d/atlanta-2...</td>\n",
       "      <td>wyoming</td>\n",
       "      <td>https://wyoming.craigslist.org</td>\n",
       "      <td>28990</td>\n",
       "      <td>2018.0</td>\n",
       "      <td>lexus</td>\n",
       "      <td>es 350 sedan 4d</td>\n",
       "      <td>good</td>\n",
       "      <td>6 cylinders</td>\n",
       "      <td>...</td>\n",
       "      <td>NaN</td>\n",
       "      <td>sedan</td>\n",
       "      <td>silver</td>\n",
       "      <td>https://images.craigslist.org/00z0z_bKnIVGLkDT...</td>\n",
       "      <td>Carvana is the safer way to buy a car During t...</td>\n",
       "      <td>NaN</td>\n",
       "      <td>wy</td>\n",
       "      <td>33.786500</td>\n",
       "      <td>-84.445400</td>\n",
       "      <td>2021-04-04T03:21:11-0600</td>\n",
       "    </tr>\n",
       "    <tr>\n",
       "      <th>426879</th>\n",
       "      <td>7301591129</td>\n",
       "      <td>https://wyoming.craigslist.org/ctd/d/atlanta-2...</td>\n",
       "      <td>wyoming</td>\n",
       "      <td>https://wyoming.craigslist.org</td>\n",
       "      <td>30590</td>\n",
       "      <td>2019.0</td>\n",
       "      <td>bmw</td>\n",
       "      <td>4 series 430i gran coupe</td>\n",
       "      <td>good</td>\n",
       "      <td>NaN</td>\n",
       "      <td>...</td>\n",
       "      <td>NaN</td>\n",
       "      <td>coupe</td>\n",
       "      <td>NaN</td>\n",
       "      <td>https://images.craigslist.org/00Y0Y_lEUocjyRxa...</td>\n",
       "      <td>Carvana is the safer way to buy a car During t...</td>\n",
       "      <td>NaN</td>\n",
       "      <td>wy</td>\n",
       "      <td>33.779214</td>\n",
       "      <td>-84.411811</td>\n",
       "      <td>2021-04-04T03:21:07-0600</td>\n",
       "    </tr>\n",
       "  </tbody>\n",
       "</table>\n",
       "<p>5 rows × 26 columns</p>\n",
       "</div>"
      ],
      "text/plain": [
       "                id                                                url  \\\n",
       "426875  7301591192  https://wyoming.craigslist.org/ctd/d/atlanta-2...   \n",
       "426876  7301591187  https://wyoming.craigslist.org/ctd/d/atlanta-2...   \n",
       "426877  7301591147  https://wyoming.craigslist.org/ctd/d/atlanta-2...   \n",
       "426878  7301591140  https://wyoming.craigslist.org/ctd/d/atlanta-2...   \n",
       "426879  7301591129  https://wyoming.craigslist.org/ctd/d/atlanta-2...   \n",
       "\n",
       "         region                      region_url  price    year manufacturer  \\\n",
       "426875  wyoming  https://wyoming.craigslist.org  23590  2019.0       nissan   \n",
       "426876  wyoming  https://wyoming.craigslist.org  30590  2020.0        volvo   \n",
       "426877  wyoming  https://wyoming.craigslist.org  34990  2020.0     cadillac   \n",
       "426878  wyoming  https://wyoming.craigslist.org  28990  2018.0        lexus   \n",
       "426879  wyoming  https://wyoming.craigslist.org  30590  2019.0          bmw   \n",
       "\n",
       "                           model condition    cylinders  ... size       type  \\\n",
       "426875         maxima s sedan 4d      good  6 cylinders  ...  NaN      sedan   \n",
       "426876  s60 t5 momentum sedan 4d      good          NaN  ...  NaN      sedan   \n",
       "426877          xt4 sport suv 4d      good          NaN  ...  NaN  hatchback   \n",
       "426878           es 350 sedan 4d      good  6 cylinders  ...  NaN      sedan   \n",
       "426879  4 series 430i gran coupe      good          NaN  ...  NaN      coupe   \n",
       "\n",
       "       paint_color                                          image_url  \\\n",
       "426875         NaN  https://images.craigslist.org/00o0o_iiraFnHg8q...   \n",
       "426876         red  https://images.craigslist.org/00x0x_15sbgnxCIS...   \n",
       "426877       white  https://images.craigslist.org/00L0L_farM7bxnxR...   \n",
       "426878      silver  https://images.craigslist.org/00z0z_bKnIVGLkDT...   \n",
       "426879         NaN  https://images.craigslist.org/00Y0Y_lEUocjyRxa...   \n",
       "\n",
       "                                              description county state  \\\n",
       "426875  Carvana is the safer way to buy a car During t...    NaN    wy   \n",
       "426876  Carvana is the safer way to buy a car During t...    NaN    wy   \n",
       "426877  Carvana is the safer way to buy a car During t...    NaN    wy   \n",
       "426878  Carvana is the safer way to buy a car During t...    NaN    wy   \n",
       "426879  Carvana is the safer way to buy a car During t...    NaN    wy   \n",
       "\n",
       "              lat       long              posting_date  \n",
       "426875  33.786500 -84.445400  2021-04-04T03:21:31-0600  \n",
       "426876  33.786500 -84.445400  2021-04-04T03:21:29-0600  \n",
       "426877  33.779214 -84.411811  2021-04-04T03:21:17-0600  \n",
       "426878  33.786500 -84.445400  2021-04-04T03:21:11-0600  \n",
       "426879  33.779214 -84.411811  2021-04-04T03:21:07-0600  \n",
       "\n",
       "[5 rows x 26 columns]"
      ]
     },
     "execution_count": 25,
     "metadata": {},
     "output_type": "execute_result"
    }
   ],
   "source": [
    "df.tail()"
   ]
  },
  {
   "cell_type": "code",
   "execution_count": 28,
   "id": "53b6c9df-e109-4b8b-8d65-548c1b1bd1d9",
   "metadata": {},
   "outputs": [
    {
     "name": "stdout",
     "output_type": "stream",
     "text": [
      "<class 'pandas.core.frame.DataFrame'>\n",
      "RangeIndex: 426880 entries, 0 to 426879\n",
      "Data columns (total 26 columns):\n",
      " #   Column        Non-Null Count   Dtype  \n",
      "---  ------        --------------   -----  \n",
      " 0   id            426880 non-null  int64  \n",
      " 1   url           426880 non-null  object \n",
      " 2   region        426880 non-null  object \n",
      " 3   region_url    426880 non-null  object \n",
      " 4   price         426880 non-null  int64  \n",
      " 5   year          425675 non-null  float64\n",
      " 6   manufacturer  409234 non-null  object \n",
      " 7   model         421603 non-null  object \n",
      " 8   condition     252776 non-null  object \n",
      " 9   cylinders     249202 non-null  object \n",
      " 10  fuel          423867 non-null  object \n",
      " 11  odometer      422480 non-null  float64\n",
      " 12  title_status  418638 non-null  object \n",
      " 13  transmission  424324 non-null  object \n",
      " 14  VIN           265838 non-null  object \n",
      " 15  drive         296313 non-null  object \n",
      " 16  size          120519 non-null  object \n",
      " 17  type          334022 non-null  object \n",
      " 18  paint_color   296677 non-null  object \n",
      " 19  image_url     426812 non-null  object \n",
      " 20  description   426810 non-null  object \n",
      " 21  county        0 non-null       float64\n",
      " 22  state         426880 non-null  object \n",
      " 23  lat           420331 non-null  float64\n",
      " 24  long          420331 non-null  float64\n",
      " 25  posting_date  426812 non-null  object \n",
      "dtypes: float64(5), int64(2), object(19)\n",
      "memory usage: 84.7+ MB\n"
     ]
    }
   ],
   "source": [
    "df.info()"
   ]
  },
  {
   "cell_type": "code",
   "execution_count": 32,
   "id": "579788f7-0cb3-4d6e-8530-8c1bd5e5f65f",
   "metadata": {},
   "outputs": [
    {
     "data": {
      "text/plain": [
       "id              426880\n",
       "url             426880\n",
       "region             404\n",
       "region_url         413\n",
       "price            15655\n",
       "year               114\n",
       "manufacturer        42\n",
       "model            29667\n",
       "condition            6\n",
       "cylinders            8\n",
       "fuel                 5\n",
       "odometer        104870\n",
       "title_status         6\n",
       "transmission         3\n",
       "VIN             118264\n",
       "drive                3\n",
       "size                 4\n",
       "type                13\n",
       "paint_color         12\n",
       "image_url       241899\n",
       "description     360911\n",
       "county               0\n",
       "state               51\n",
       "lat              53181\n",
       "long             53772\n",
       "posting_date    381536\n",
       "dtype: int64"
      ]
     },
     "execution_count": 32,
     "metadata": {},
     "output_type": "execute_result"
    }
   ],
   "source": [
    "df.nunique()"
   ]
  },
  {
   "cell_type": "code",
   "execution_count": 34,
   "id": "829deb0e-39e4-4314-9bdc-7c04604ffde7",
   "metadata": {},
   "outputs": [
    {
     "data": {
      "text/plain": [
       "id                   0\n",
       "url                  0\n",
       "region               0\n",
       "region_url           0\n",
       "price                0\n",
       "year              1205\n",
       "manufacturer     17646\n",
       "model             5277\n",
       "condition       174104\n",
       "cylinders       177678\n",
       "fuel              3013\n",
       "odometer          4400\n",
       "title_status      8242\n",
       "transmission      2556\n",
       "VIN             161042\n",
       "drive           130567\n",
       "size            306361\n",
       "type             92858\n",
       "paint_color     130203\n",
       "image_url           68\n",
       "description         70\n",
       "county          426880\n",
       "state                0\n",
       "lat               6549\n",
       "long              6549\n",
       "posting_date        68\n",
       "dtype: int64"
      ]
     },
     "execution_count": 34,
     "metadata": {},
     "output_type": "execute_result"
    }
   ],
   "source": [
    "df.isnull().sum()"
   ]
  },
  {
   "cell_type": "code",
   "execution_count": 38,
   "id": "f66dbfa4-75a9-4057-91cd-c37093e06db8",
   "metadata": {},
   "outputs": [
    {
     "data": {
      "text/plain": [
       "id                0.000000\n",
       "url               0.000000\n",
       "region            0.000000\n",
       "region_url        0.000000\n",
       "price             0.000000\n",
       "year              0.282281\n",
       "manufacturer      4.133714\n",
       "model             1.236179\n",
       "condition        40.785232\n",
       "cylinders        41.622470\n",
       "fuel              0.705819\n",
       "odometer          1.030735\n",
       "title_status      1.930753\n",
       "transmission      0.598763\n",
       "VIN              37.725356\n",
       "drive            30.586347\n",
       "size             71.767476\n",
       "type             21.752717\n",
       "paint_color      30.501078\n",
       "image_url         0.015930\n",
       "description       0.016398\n",
       "county          100.000000\n",
       "state             0.000000\n",
       "lat               1.534155\n",
       "long              1.534155\n",
       "posting_date      0.015930\n",
       "dtype: float64"
      ]
     },
     "execution_count": 38,
     "metadata": {},
     "output_type": "execute_result"
    }
   ],
   "source": [
    "(df.isnull().sum()/(len(df)))*100\n"
   ]
  },
  {
   "cell_type": "code",
   "execution_count": 54,
   "id": "25c719ad-0693-4809-9817-1076fe274ee1",
   "metadata": {},
   "outputs": [],
   "source": [
    "\n",
    "df.fillna(df.mean(numeric_only=True), inplace=True)  # Filling missing numeric values with column mean\n"
   ]
  },
  {
   "cell_type": "code",
   "execution_count": 56,
   "id": "bd380218-6808-46de-b784-2d6012b9a47d",
   "metadata": {},
   "outputs": [],
   "source": [
    "df.fillna(df.mode().iloc[0], inplace=True)  # Filling missing categorical values with the most frequent value (mode)\n",
    "\n"
   ]
  },
  {
   "cell_type": "code",
   "execution_count": 60,
   "id": "a1e6f343-1d04-4cf4-973b-76ca56a3c825",
   "metadata": {},
   "outputs": [],
   "source": [
    "\n",
    "df.drop_duplicates(inplace=True)  # Removing duplicate rows to clean inconsistencies\n",
    "\n"
   ]
  },
  {
   "cell_type": "code",
   "execution_count": 61,
   "id": "d70825ea-9871-47dd-b49b-e25d875e6f4f",
   "metadata": {},
   "outputs": [
    {
     "data": {
      "text/plain": [
       "<Axes: >"
      ]
     },
     "execution_count": 61,
     "metadata": {},
     "output_type": "execute_result"
    },
    {
     "data": {
      "image/png": "[encoded data removed]",
      "text/plain": [
       "<Figure size 1000x500 with 1 Axes>"
      ]
     },
     "metadata": {},
     "output_type": "display_data"
    }
   ],
   "source": [
    "import numpy as np\n",
    "df.select_dtypes(include=np.number).boxplot(figsize=(10, 5))  # Creating a box plot for all numeric columns\n"
   ]
  },
  {
   "cell_type": "code",
   "execution_count": 69,
   "id": "22e315f1-ec81-4b05-9cfb-2547973d5d74",
   "metadata": {},
   "outputs": [
    {
     "data": {
      "text/plain": [
       "Text(0.5, 1.0, 'Box Plot of Numeric Columns')"
      ]
     },
     "execution_count": 69,
     "metadata": {},
     "output_type": "execute_result"
    }
   ],
   "source": [
    "\n",
    "plt.title(\"Box Plot of Numeric Columns\")  # Setting the title for the plot\n"
   ]
  },
  {
   "cell_type": "code",
   "execution_count": 72,
   "id": "10405506-ad12-4b62-b81c-02d46649542e",
   "metadata": {},
   "outputs": [
    {
     "data": {
      "image/png": "[encoded data removed]",
      "text/plain": [
       "<Figure size 640x480 with 1 Axes>"
      ]
     },
     "metadata": {},
     "output_type": "display_data"
    }
   ],
   "source": [
    "plt.show()"
   ]
  },
  {
   "cell_type": "code",
   "execution_count": 74,
   "id": "2c1ef4ba-b682-4050-9539-6bd20cd6aea3",
   "metadata": {},
   "outputs": [
    {
     "data": {
      "text/plain": [
       "array([[<Axes: title={'center': 'id'}>,\n",
       "        <Axes: title={'center': 'price'}>]], dtype=object)"
      ]
     },
     "execution_count": 74,
     "metadata": {},
     "output_type": "execute_result"
    }
   ],
   "source": [
    "\n",
    "df.hist(column=df.select_dtypes(include=np.number).columns[:2], bins=30, figsize=(12, 5))  \n"
   ]
  },
  {
   "cell_type": "code",
   "execution_count": 76,
   "id": "68756e3f-4e4a-498a-9972-311bcbeb68eb",
   "metadata": {},
   "outputs": [
    {
     "data": {
      "image/png": "[encoded data removed]",
      "text/plain": [
       "<Figure size 1200x500 with 2 Axes>"
      ]
     },
     "metadata": {},
     "output_type": "display_data"
    }
   ],
   "source": [
    "\n",
    "plt.show()  # Displaying the histograms\n",
    "\n"
   ]
  },
  {
   "cell_type": "code",
   "execution_count": 78,
   "id": "331307ef-de81-43d6-ac30-0a45b58afc7d",
   "metadata": {},
   "outputs": [
    {
     "name": "stdout",
     "output_type": "stream",
     "text": [
      "\n",
      "Data types:\n",
      " id                int64\n",
      "url              object\n",
      "region           object\n",
      "region_url       object\n",
      "price             int64\n",
      "year            float64\n",
      "manufacturer     object\n",
      "model            object\n",
      "condition        object\n",
      "cylinders        object\n",
      "fuel             object\n",
      "odometer        float64\n",
      "title_status     object\n",
      "transmission     object\n",
      "VIN              object\n",
      "drive            object\n",
      "size             object\n",
      "type             object\n",
      "paint_color      object\n",
      "image_url        object\n",
      "description      object\n",
      "county          float64\n",
      "state            object\n",
      "lat             float64\n",
      "long            float64\n",
      "posting_date     object\n",
      "dtype: object\n"
     ]
    }
   ],
   "source": [
    "\n",
    "print(\"\\nData types:\\n\", df.dtypes)  # Printing the data type of each column\n",
    "\n"
   ]
  },
  {
   "cell_type": "code",
   "execution_count": 80,
   "id": "c199b46e-0fa8-44fb-8c39-264d04e6f50e",
   "metadata": {},
   "outputs": [
    {
     "name": "stdout",
     "output_type": "stream",
     "text": [
      "\n",
      "Count of zeros:\n",
      " id                  0\n",
      "url                 0\n",
      "region              0\n",
      "region_url          0\n",
      "price           32895\n",
      "year                0\n",
      "manufacturer        0\n",
      "model               0\n",
      "condition           0\n",
      "cylinders           0\n",
      "fuel                0\n",
      "odometer         1965\n",
      "title_status        0\n",
      "transmission        0\n",
      "VIN                 0\n",
      "drive               0\n",
      "size                0\n",
      "type                0\n",
      "paint_color         0\n",
      "image_url           0\n",
      "description         0\n",
      "county              0\n",
      "state               0\n",
      "lat                 0\n",
      "long                1\n",
      "posting_date        0\n",
      "dtype: int64\n"
     ]
    }
   ],
   "source": [
    "\n",
    "print(\"\\nCount of zeros:\\n\", (df == 0).sum())  # Counting and displaying the number of zeros in each column\n",
    "\n"
   ]
  },
  {
   "cell_type": "code",
   "execution_count": 82,
   "id": "3cda33f3-76b2-4621-92df-5ed20b33e944",
   "metadata": {},
   "outputs": [
    {
     "name": "stdout",
     "output_type": "stream",
     "text": [
      "\n",
      "Mean of numeric attributes:\n",
      " id          7.311487e+09\n",
      "price       7.519903e+04\n",
      "year        2.011235e+03\n",
      "odometer    9.804333e+04\n",
      "county               NaN\n",
      "lat         3.849394e+01\n",
      "long       -9.474860e+01\n",
      "dtype: float64\n"
     ]
    }
   ],
   "source": [
    "\n",
    "print(\"\\nMean of numeric attributes:\\n\", df.mean(numeric_only=True))  # Calculating and printing the mean of numeric columns\n",
    "\n"
   ]
  },
  {
   "cell_type": "code",
   "execution_count": 84,
   "id": "f6ccfe1f-839a-46a7-970f-2b425f38a85a",
   "metadata": {},
   "outputs": [
    {
     "name": "stdout",
     "output_type": "stream",
     "text": [
      "\n",
      "Shape of dataset: (426880, 26)\n"
     ]
    }
   ],
   "source": [
    "\n",
    "print(\"\\nShape of dataset:\", df.shape)  # Printing the number of rows and columns in the dataset"
   ]
  },
  {
   "cell_type": "code",
   "execution_count": null,
   "id": "851a2ac8-0a32-4d14-b3bd-ddc7ede37af4",
   "metadata": {},
   "outputs": [],
   "source": []
  }
 ],
 "metadata": {
  "kernelspec": {
   "display_name": "Python 3 (ipykernel)",
   "language": "python",
   "name": "python3"
  },
  "language_info": {
   "codemirror_mode": {
    "name": "ipython",
    "version": 3
   },
   "file_extension": ".py",
   "mimetype": "text/x-python",
   "name": "python",
   "nbconvert_exporter": "python",
   "pygments_lexer": "ipython3",
   "version": "3.12.4"
  }
 },
 "nbformat": 4,
 "nbformat_minor": 5
}
